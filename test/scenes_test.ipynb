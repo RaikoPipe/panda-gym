{
 "cells": [
  {
   "cell_type": "code",
   "id": "initial_id",
   "metadata": {
    "collapsed": true,
    "ExecuteTime": {
     "end_time": "2024-09-05T08:40:54.235641Z",
     "start_time": "2024-09-05T08:40:54.232269Z"
    }
   },
   "source": [
    "import pybullet as p\n",
    "import pybullet_data"
   ],
   "outputs": [],
   "execution_count": 5
  },
  {
   "metadata": {
    "ExecuteTime": {
     "end_time": "2024-09-05T08:40:54.511688Z",
     "start_time": "2024-09-05T08:40:54.383728Z"
    }
   },
   "cell_type": "code",
   "source": [
    "# Start the physics engine\n",
    "p.connect(p.GUI)"
   ],
   "id": "4d994e3e9408e594",
   "outputs": [
    {
     "data": {
      "text/plain": [
       "0"
      ]
     },
     "execution_count": 6,
     "metadata": {},
     "output_type": "execute_result"
    }
   ],
   "execution_count": 6
  },
  {
   "metadata": {
    "jupyter": {
     "is_executing": true
    },
    "ExecuteTime": {
     "start_time": "2024-09-05T08:40:54.978954Z"
    }
   },
   "cell_type": "code",
   "source": [
    "# Set up the environment (floor)\n",
    "# get project path\n",
    "import os\n",
    "path = os.getcwd()\n",
    "# get parent\n",
    "path = os.path.dirname(path)\n",
    "\n",
    "p.setAdditionalSearchPath(f'{path}\\\\panda_gym\\\\assets\\\\scenarios')\n",
    "p.loadURDF(\"\\\\industrial\\\\urdf\\\\industrial.urdf\")\n"
   ],
   "id": "9723134482e8705e",
   "outputs": [],
   "execution_count": null
  },
  {
   "metadata": {
    "ExecuteTime": {
     "end_time": "2024-09-05T08:39:55.002162Z",
     "start_time": "2024-09-05T08:39:54.837147Z"
    }
   },
   "cell_type": "code",
   "source": [
    "# Run the simulation\n",
    "while p.isConnected():\n",
    "    p.stepSimulation()"
   ],
   "id": "5faf5bfe8c96dd95",
   "outputs": [
    {
     "ename": "NameError",
     "evalue": "name 'p' is not defined",
     "output_type": "error",
     "traceback": [
      "\u001B[1;31m---------------------------------------------------------------------------\u001B[0m",
      "\u001B[1;31mNameError\u001B[0m                                 Traceback (most recent call last)",
      "Cell \u001B[1;32mIn[1], line 2\u001B[0m\n\u001B[0;32m      1\u001B[0m \u001B[38;5;66;03m# Run the simulation\u001B[39;00m\n\u001B[1;32m----> 2\u001B[0m \u001B[38;5;28;01mwhile\u001B[39;00m \u001B[43mp\u001B[49m\u001B[38;5;241m.\u001B[39misConnected():\n\u001B[0;32m      3\u001B[0m     p\u001B[38;5;241m.\u001B[39mstepSimulation()\n",
      "\u001B[1;31mNameError\u001B[0m: name 'p' is not defined"
     ]
    }
   ],
   "execution_count": 1
  },
  {
   "metadata": {},
   "cell_type": "code",
   "outputs": [],
   "execution_count": null,
   "source": [
    "# Disconnect when finished\n",
    "p.disconnect()"
   ],
   "id": "4166d6c5497ba722"
  }
 ],
 "metadata": {
  "kernelspec": {
   "display_name": "Python 3",
   "language": "python",
   "name": "python3"
  },
  "language_info": {
   "codemirror_mode": {
    "name": "ipython",
    "version": 2
   },
   "file_extension": ".py",
   "mimetype": "text/x-python",
   "name": "python",
   "nbconvert_exporter": "python",
   "pygments_lexer": "ipython2",
   "version": "2.7.6"
  }
 },
 "nbformat": 4,
 "nbformat_minor": 5
}
