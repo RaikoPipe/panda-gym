{
 "cells": [
  {
   "cell_type": "code",
   "execution_count": 1,
   "metadata": {
    "collapsed": true,
    "ExecuteTime": {
     "end_time": "2024-04-08T14:45:34.529653Z",
     "start_time": "2024-04-08T14:45:32.445706Z"
    }
   },
   "outputs": [
    {
     "name": "stderr",
     "output_type": "stream",
     "text": [
      "C:\\Users\\ladmin\\PycharmProjects\\panda-gym\\venv\\Lib\\site-packages\\gymnasium\\envs\\registration.py:694: UserWarning: \u001B[33mWARN: Overriding environment PandaReachAO-v3 already in registry.\u001B[0m\n",
      "  logger.warn(f\"Overriding environment {new_spec.id} already in registry.\")\n"
     ]
    }
   ],
   "source": [
    "import numpy as np\n",
    "import gymnasium\n",
    "from run.train import configuration\n",
    "import panda_gym\n",
    "import pybullet\n",
    "from sb3_contrib import TQC\n",
    "import evaluate"
   ]
  },
  {
   "cell_type": "code",
   "execution_count": 2,
   "outputs": [],
   "source": [
    "# standard settings\n",
    "reward_type=\"sparse\"\n",
    "n_substeps=20\n",
    "max_ep_steps = 200\n",
    "goal_condition=\"reach\"\n",
    "task_observations={'obstacles': \"vectors+past\", 'prior': None}\n",
    "num_episodes = 20\n",
    "#register envs\n",
    "panda_gym.register_reach_ao(max_ep_steps)\n",
    "\n",
    "# visual stuff\n",
    "sphere_list = []\n",
    "sphere_count = 0\n",
    "human = True # render the environment during evaluation"
   ],
   "metadata": {
    "collapsed": false,
    "ExecuteTime": {
     "end_time": "2024-04-08T14:45:34.533935Z",
     "start_time": "2024-04-08T14:45:34.530663Z"
    }
   }
  },
  {
   "cell_type": "code",
   "outputs": [],
   "source": [
    "# training env\n",
    "evaluation_scenario=\"wangexp_3\"\n",
    "prior_orientation=\"fkine\"\n",
    "show_goal_space = True\n",
    "cameraTargetPosition = (0.06289377063512802, 0.05091303586959839, 0.27599984407424927)\n",
    "cameraDistance = 1.359999656677246\n",
    "cameraPitch = -33.20000076293945\n",
    "cameraYaw = 51.800025939941406"
   ],
   "metadata": {
    "collapsed": false,
    "ExecuteTime": {
     "end_time": "2024-04-08T14:45:34.538374Z",
     "start_time": "2024-04-08T14:45:34.534943Z"
    }
   },
   "execution_count": 3
  },
  {
   "cell_type": "markdown",
   "source": [
    "# narrow_tunnel\n",
    "evaluation_scenario=\"narrow_tunnel\"\n",
    "prior_orientation=\"left\"\n",
    "show_goal_space = True\n",
    "cameraTargetPosition = (0.6126745939254761, -0.002699121832847595, 0.3287460505962372)\n",
    "cameraDistance = 1.119999885559082\n",
    "cameraPitch = -42.800045013427734\n",
    "cameraYaw = 221.39991760253906"
   ],
   "metadata": {
    "collapsed": false
   }
  },
  {
   "cell_type": "markdown",
   "source": [
    "# library 2\n",
    "evaluation_scenario=\"library2\"\n",
    "prior_orientation=\"back\"\n",
    "show_goal_space = True\n",
    "cameraTargetPosition = (0.09789270907640457, 0.09457920491695404, 0.3600000739097595)\n",
    "cameraDistance = 1.5399994850158691\n",
    "cameraPitch = -36.4000129699707\n",
    "cameraYaw = 49.800018310546875"
   ],
   "metadata": {
    "collapsed": false
   }
  },
  {
   "cell_type": "markdown",
   "source": [
    "# workshop\n",
    "evaluation_scenario=\"workshop\"\n",
    "prior_orientation=\"fkine\"\n",
    "show_goal_space = True\n",
    "cameraTargetPosition = (-0.05694245547056198, -0.08760415762662888, 0.3400000035762787)\n",
    "cameraDistance = 1.299999713897705\n",
    "cameraPitch = -42.8000373840332\n",
    "cameraYaw = 224.19996643066406"
   ],
   "metadata": {
    "collapsed": false
   }
  },
  {
   "cell_type": "markdown",
   "source": [
    "# wall\n",
    "evaluation_scenario=\"wall\"\n",
    "prior_orientation=\"fkine\"\n",
    "show_goal_space = True\n",
    "cameraTargetPosition = (0.03229629248380661, 0.10305798053741455, 0.012000000104308128)\n",
    "cameraDistance = 1.5399994850158691\n",
    "cameraPitch = -30.399999618530273\n",
    "cameraYaw = 66.60003662109375"
   ],
   "metadata": {
    "collapsed": false
   }
  },
  {
   "cell_type": "code",
   "execution_count": 3,
   "outputs": [],
   "source": [],
   "metadata": {
    "collapsed": false,
    "ExecuteTime": {
     "end_time": "2024-04-08T14:45:34.541310Z",
     "start_time": "2024-04-08T14:45:34.539380Z"
    }
   }
  },
  {
   "cell_type": "code",
   "execution_count": 3,
   "outputs": [],
   "source": [],
   "metadata": {
    "collapsed": false,
    "ExecuteTime": {
     "end_time": "2024-04-08T14:45:34.544219Z",
     "start_time": "2024-04-08T14:45:34.542324Z"
    }
   }
  },
  {
   "cell_type": "code",
   "execution_count": 4,
   "outputs": [],
   "source": [
    "# get env\n",
    "work_env = gymnasium.make(configuration[\"env_name\"], render=False, control_type=\"js\",\n",
    "                     obs_type=configuration[\"obs_type\"], goal_distance_threshold=0.05,\n",
    "                     goal_condition=goal_condition,\n",
    "                     reward_type=reward_type, limiter=configuration[\"limiter\"],\n",
    "                     show_goal_space=False, scenario=evaluation_scenario,\n",
    "                     randomize_robot_pose=False,  # if evaluation_scenario != \"wang_3\" else True,\n",
    "                     task_observations=task_observations,\n",
    "                     truncate_on_collision=True,\n",
    "                     terminate_on_success=True, \n",
    "                     show_debug_labels=False, n_substeps=n_substeps)\n"
   ],
   "metadata": {
    "collapsed": false,
    "ExecuteTime": {
     "end_time": "2024-04-08T14:45:35.700635Z",
     "start_time": "2024-04-08T14:45:34.544219Z"
    }
   }
  },
  {
   "cell_type": "code",
   "execution_count": 5,
   "outputs": [],
   "source": [
    "# get rendered env\n",
    "env = gymnasium.make(configuration[\"env_name\"],\n",
    "                     render=True, control_type=\"js\",\n",
    "                     obs_type=configuration[\"obs_type\"], goal_distance_threshold=0.05,\n",
    "                     goal_condition=goal_condition,\n",
    "                     reward_type=reward_type, limiter=configuration[\"limiter\"],\n",
    "                     show_goal_space=show_goal_space, scenario=evaluation_scenario,\n",
    "                     randomize_robot_pose=False,  # if evaluation_scenario != \"wang_3\" else True,\n",
    "                     task_observations=task_observations,\n",
    "                     truncate_on_collision=True,\n",
    "                     terminate_on_success=True,\n",
    "                     show_debug_labels=False, n_substeps=n_substeps)\n",
    "\n",
    "pybullet.resetDebugVisualizerCamera(cameraDistance=cameraDistance, cameraYaw=cameraYaw, cameraPitch=cameraPitch, cameraTargetPosition=cameraTargetPosition, physicsClientId=1)\n",
    "\n"
   ],
   "metadata": {
    "collapsed": false,
    "ExecuteTime": {
     "end_time": "2024-04-08T14:45:36.520387Z",
     "start_time": "2024-04-08T14:45:35.701642Z"
    }
   }
  },
  {
   "cell_type": "code",
   "outputs": [
    {
     "name": "stderr",
     "output_type": "stream",
     "text": [
      "wangexp_3: 100%|██████████| 20/20 [00:26<00:00,  1.33s/it]\n"
     ]
    }
   ],
   "source": [
    "# collect prior results\n",
    "work_env.robot.control_type = \"jsd\"\n",
    "results, metrics = evaluate.evaluate_ensemble([\"prior\"], work_env, human=False, num_episodes=num_episodes, deterministic=True,\n",
    "                                     strategy=\"\",\n",
    "                                     scenario_name=evaluation_scenario,\n",
    "                                     prior_orientation=prior_orientation)\n",
    "ee_pos = metrics[\"end_effector_positions\"]\n",
    "path_success = metrics[\"path_success\"]\n",
    "done_events  = metrics[\"done_events\"]"
   ],
   "metadata": {
    "collapsed": false,
    "ExecuteTime": {
     "end_time": "2024-04-08T14:52:38.079632Z",
     "start_time": "2024-04-08T14:52:11.368650Z"
    }
   },
   "execution_count": 10
  },
  {
   "cell_type": "code",
   "outputs": [],
   "source": [
    "# collect agent results\n",
    "work_env.robot.control_type = \"js\"\n",
    "model_names = [\"logical-cherry-949\"]# evaluate.trained_models['mt_cl']\n",
    "ensemble = []\n",
    "for model_name in model_names:\n",
    "    ensemble.append(TQC.load(fr\"../run/run_data/wandb/{model_name}/files/best_model.zip\", env=work_env,\n",
    "                     custom_objects={\"action_space\": gymnasium.spaces.Box(-1.0, 1.0, shape=(7,),dtype=np.float32)}))  # for some reason it won't read action space sometimes)\n",
    "\n",
    "results, metrics = evaluate.evaluate_ensemble(ensemble, work_env, human=human, num_episodes=num_episodes, deterministic=True,\n",
    "                                     strategy=\"variance_only\",\n",
    "                                     scenario_name=evaluation_scenario,\n",
    "                                     prior_orientation=\"\")\n",
    "ee_pos = metrics[\"end_effector_positions\"]\n",
    "path_success = metrics[\"path_success\"]\n",
    "done_events  = metrics[\"done_events\"]\n",
    "work_env.close()"
   ],
   "metadata": {
    "collapsed": false
   },
   "execution_count": null
  },
  {
   "cell_type": "markdown",
   "source": [
    "pybullet.setRealTimeSimulation(0)\n",
    "loggingID = pybullet.startStateLogging(loggingType=pybullet.STATE_LOGGING_VIDEO_MP4, fileName = f\"videos/{evaluation_scenario}_mt-cl-ensemble.mp4\", physicsClientId=1)"
   ],
   "metadata": {
    "collapsed": false
   }
  },
  {
   "cell_type": "code",
   "execution_count": 11,
   "outputs": [
    {
     "name": "stderr",
     "output_type": "stream",
     "text": [
      "wangexp_3: 100%|██████████| 20/20 [01:06<00:00,  3.34s/it]\n"
     ]
    }
   ],
   "source": [
    "# visualize/play prior results\n",
    "env.robot.control_type = \"jsd\"\n",
    "#pybullet.setRealTimeSimulation(enableRealTimeSimulation=1, physicsClientId=1)\n",
    "\n",
    "_, _ = evaluate.evaluate_ensemble([\"prior\"], env, human=True, num_episodes=num_episodes, deterministic=True,\n",
    "                                     strategy=\"\",\n",
    "                                     scenario_name=evaluation_scenario,\n",
    "                                     prior_orientation=\"\",\n",
    "                                  pre_calc_metrics=metrics)\n"
   ],
   "metadata": {
    "collapsed": false,
    "ExecuteTime": {
     "end_time": "2024-04-08T14:54:38.696660Z",
     "start_time": "2024-04-08T14:53:31.912337Z"
    }
   }
  },
  {
   "cell_type": "code",
   "outputs": [],
   "source": [],
   "metadata": {
    "collapsed": false
   }
  },
  {
   "cell_type": "markdown",
   "source": [
    "pybullet.stopStateLogging(loggingID)\n",
    "env.close()"
   ],
   "metadata": {
    "collapsed": false
   }
  },
  {
   "cell_type": "markdown",
   "source": [
    "env.close()"
   ],
   "metadata": {
    "collapsed": false
   }
  },
  {
   "cell_type": "markdown",
   "source": [
    "work_env.robot.control_type = \"js\"\n",
    "model_name = \"firm-pond-79\"\n",
    "model = TQC.load(fr\"../run/run_data/wandb/{model_name}/files/best_model.zip\", env=work_env,\n",
    "                 custom_objects={\"action_space\": gymnasium.spaces.Box(-1.0, 1.0, shape=(7,),\n",
    "                                                                      dtype=np.float32)})  # for some reason it won't read action space sometimes\n",
    "\n",
    "results, metrics = evaluate.evaluate_ensemble([model], work_env, human=human, num_episodes=100, deterministic=True,\n",
    "                                     strategy=\"variance_only\",\n",
    "                                     scenario_name=evaluation_scenario,\n",
    "                                     prior_orientation=\"\")\n",
    "ee_pos = metrics[\"end_effector_positions\"]\n",
    "path_success = metrics[\"path_success\"]\n",
    "done_events  = metrics[\"done_events\"]"
   ],
   "metadata": {
    "collapsed": false
   }
  },
  {
   "cell_type": "markdown",
   "source": [
    "# get rendered env\n",
    "env = gymnasium.make(configuration[\"env_name\"],\n",
    "                     render=True, control_type=\"js\",\n",
    "                     obs_type=configuration[\"obs_type\"], goal_distance_threshold=0.05,\n",
    "                     goal_condition=\"halt\",\n",
    "                     reward_type=reward_type, limiter=configuration[\"limiter\"],\n",
    "                     show_goal_space=False, scenario=evaluation_scenario,\n",
    "                     randomize_robot_pose=False,  # if evaluation_scenario != \"wang_3\" else True,\n",
    "                     task_observations=\"vectors+all\",\n",
    "                     truncate_on_collision=True,\n",
    "                     terminate_on_success=True,\n",
    "                     show_debug_labels=True, n_substeps=n_substeps)"
   ],
   "metadata": {
    "collapsed": false
   }
  },
  {
   "cell_type": "code",
   "execution_count": null,
   "outputs": [],
   "source": [
    "\n",
    "# pybullet.changeVisualShape(objectUniqueId=0, linkIndex=1, rgbaColor=[1,1,1,0.5], physicsClientId=1)\n",
    "# pybullet.changeVisualShape(objectUniqueId=0, linkIndex=3, rgbaColor=[1,1,1,1], physicsClientId=1)\n",
    "# pybullet.changeVisualShape(objectUniqueId=0, linkIndex=2, rgbaColor=[1,1,1,0.5])\n",
    "# pybullet.changeVisualShape(objectUniqueId=0, linkIndex=1, rgbaColor=[1,1,1,0.5])\n",
    "# pybullet.changeVisualShape(objectUniqueId=0, linkIndex=0, rgbaColor=[1,1,1,0.5])"
   ],
   "metadata": {
    "collapsed": false
   }
  },
  {
   "cell_type": "markdown",
   "source": [
    "# todo: draw a circle\n",
    "time.sleep(3)\n",
    "radius = 0.9\n",
    "theta = 0.49*np.pi\n",
    "phi = 2*np.pi\n",
    "\n",
    "\n",
    "def get_next_point(radius, phi, theta):\n",
    "    return [radius * np.sin(theta) * np.cos(phi), radius * np.sin(theta) * np.sin(phi), radius * np.cos(theta)]\n",
    "\n",
    "inc = -phi/4\n",
    "xyz1 = get_next_point(radius,inc,theta)\n",
    "th= 0.0\n",
    "while th < theta:\n",
    "    while inc < phi/4:\n",
    "        inc += 0.01\n",
    "        xyz2 = get_next_point(radius, inc, theta)\n",
    "        pybullet.addUserDebugLine(lineFromXYZ=xyz1, lineToXYZ=xyz2, lineColorRGB=np.array([0,1,0]), physicsClientId=1, lifeTime=0, lineWidth=2)\n",
    "        time.sleep(0.01)\n",
    "        xyz1 = xyz2\n",
    "    th += 0.01\n",
    "\n",
    "# inc = -0.5*np.pi\n",
    "# xyz1=get_next_point(phi, theta*inc)\n",
    "# while inc < 0.5*np.pi:\n",
    "#     inc += 0.01\n",
    "#     xyz2 = get_next_point(phi, theta*inc)\n",
    "#     pybullet.addUserDebugLine(lineFromXYZ=xyz1, lineToXYZ=xyz2, lineColorRGB=np.array([0,1,0]), physicsClientId=1, lifeTime=0, lineWidth=2)\n",
    "#     time.sleep(0.01)\n",
    "#     xyz1 = xyz2\n",
    "\n",
    "inc = -0.5*np.pi\n",
    "xyz1=get_next_point(radius, phi/2, theta*inc)\n",
    "while inc < 0.5*np.pi:\n",
    "    inc += 0.01\n",
    "    xyz2 = get_next_point(radius, phi/4, theta*inc)\n",
    "    pybullet.addUserDebugLine(lineFromXYZ=xyz1, lineToXYZ=xyz2, lineColorRGB=np.array([0,1,0]), physicsClientId=1, lifeTime=0, lineWidth=2)\n",
    "    time.sleep(0.01)\n",
    "    xyz1 = xyz2\n",
    "\n",
    "rad = -0.9\n",
    "xyz1=[0.0, rad, 0.01]\n",
    "while rad < radius:\n",
    "    rad += 0.01\n",
    "    xyz2 = [0.0, rad, 0.01]\n",
    "    pybullet.addUserDebugLine(lineFromXYZ=xyz1, lineToXYZ=xyz2, lineColorRGB=np.array([0,1,0]), physicsClientId=1, lifeTime=0, lineWidth=2)\n",
    "    time.sleep(0.01)\n",
    "    xyz1 = xyz2\n"
   ],
   "metadata": {
    "collapsed": false
   }
  },
  {
   "cell_type": "markdown",
   "source": [
    "time.sleep(3)\n",
    "env.task.create_goal_outline()\n",
    "while True:\n",
    "    time.sleep(1)\n",
    "    env.reset()"
   ],
   "metadata": {
    "collapsed": false
   }
  },
  {
   "cell_type": "code",
   "execution_count": null,
   "outputs": [],
   "source": [
    "#env.close()"
   ],
   "metadata": {
    "collapsed": false
   }
  },
  {
   "cell_type": "code",
   "execution_count": null,
   "outputs": [],
   "source": [],
   "metadata": {
    "collapsed": false
   }
  }
 ],
 "metadata": {
  "kernelspec": {
   "display_name": "Python 3",
   "language": "python",
   "name": "python3"
  },
  "language_info": {
   "codemirror_mode": {
    "name": "ipython",
    "version": 2
   },
   "file_extension": ".py",
   "mimetype": "text/x-python",
   "name": "python",
   "nbconvert_exporter": "python",
   "pygments_lexer": "ipython2",
   "version": "2.7.6"
  }
 },
 "nbformat": 4,
 "nbformat_minor": 0
}
