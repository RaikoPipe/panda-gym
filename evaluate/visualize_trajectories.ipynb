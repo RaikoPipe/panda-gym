{
 "cells": [
  {
   "cell_type": "code",
   "execution_count": 1,
   "metadata": {
    "collapsed": true,
    "ExecuteTime": {
     "end_time": "2023-07-11T14:41:51.594022600Z",
     "start_time": "2023-07-11T14:41:49.354336900Z"
    }
   },
   "outputs": [
    {
     "name": "stderr",
     "output_type": "stream",
     "text": [
      "C:\\Users\\eclip\\GitHub\\panda-gym\\venv\\Lib\\site-packages\\gymnasium-0.28.1-py3.11.egg\\gymnasium\\envs\\registration.py:693: UserWarning: \u001B[33mWARN: Overriding environment PandaReachAO-v3 already in registry.\u001B[0m\n",
      "  logger.warn(f\"Overriding environment {new_spec.id} already in registry.\")\n"
     ]
    }
   ],
   "source": [
    "import numpy as np\n",
    "import matplotlib.pyplot as plt\n",
    "import evaluate\n",
    "from mpl_toolkits.mplot3d import Axes3D\n",
    "import gymnasium\n",
    "from run.train import configuration\n",
    "import json\n",
    "from copy import copy, deepcopy\n",
    "import panda_gym\n",
    "import pybullet\n",
    "from sb3_contrib import TQC\n",
    "import winsound"
   ]
  },
  {
   "cell_type": "code",
   "execution_count": 2,
   "outputs": [],
   "source": [
    "# standard settings\n",
    "reward_type=\"kumar_her\"\n",
    "n_substeps=20\n",
    "max_ep_steps = 200\n",
    "goal_condition=\"reach\"\n",
    "#register envs\n",
    "panda_gym.register_reach_ao(max_ep_steps)\n",
    "\n",
    "# visual stuff\n",
    "sphere_list = []\n",
    "sphere_count = 0"
   ],
   "metadata": {
    "collapsed": false,
    "ExecuteTime": {
     "end_time": "2023-07-11T14:41:51.597331200Z",
     "start_time": "2023-07-11T14:41:51.595821100Z"
    }
   }
  },
  {
   "cell_type": "code",
   "execution_count": 3,
   "outputs": [],
   "source": [
    "# training env\n",
    "evaluation_scenario=\"wangexp_3\"\n",
    "prior_orientation=\"fkine\"\n",
    "show_goal_space = False\n",
    "cameraTargetPosition = (0.06289377063512802, 0.05091303586959839, 0.27599984407424927)\n",
    "cameraDistance = 1.359999656677246\n",
    "cameraPitch = -33.20000076293945\n",
    "cameraYaw = 51.800025939941406"
   ],
   "metadata": {
    "collapsed": false,
    "ExecuteTime": {
     "end_time": "2023-07-11T14:41:51.601485300Z",
     "start_time": "2023-07-11T14:41:51.599332800Z"
    }
   }
  },
  {
   "cell_type": "markdown",
   "source": [
    "# narrow_tunnel\n",
    "evaluation_scenario=\"narrow_tunnel\"\n",
    "prior_orientation=\"left\"\n",
    "show_goal_space = True\n",
    "cameraTargetPosition = (0.6126745939254761, -0.002699121832847595, 0.3287460505962372)\n",
    "cameraDistance = 1.119999885559082\n",
    "cameraPitch = -42.800045013427734\n",
    "cameraYaw = 221.39991760253906"
   ],
   "metadata": {
    "collapsed": false
   }
  },
  {
   "cell_type": "markdown",
   "source": [
    "# library 2\n",
    "evaluation_scenario=\"library2\"\n",
    "prior_orientation=\"back\""
   ],
   "metadata": {
    "collapsed": false
   }
  },
  {
   "cell_type": "markdown",
   "source": [
    "# workshop\n",
    "evaluation_scenario=\"workshop\"\n",
    "prior_orientation=\"fkine\""
   ],
   "metadata": {
    "collapsed": false
   }
  },
  {
   "cell_type": "markdown",
   "source": [
    "# wall\n",
    "evaluation_scenario=\"wall\"\n",
    "prior_orientation=\"fkine\""
   ],
   "metadata": {
    "collapsed": false
   }
  },
  {
   "cell_type": "code",
   "execution_count": 3,
   "outputs": [],
   "source": [],
   "metadata": {
    "collapsed": false,
    "ExecuteTime": {
     "end_time": "2023-07-11T14:41:51.604544700Z",
     "start_time": "2023-07-11T14:41:51.601485300Z"
    }
   }
  },
  {
   "cell_type": "code",
   "execution_count": 3,
   "outputs": [],
   "source": [],
   "metadata": {
    "collapsed": false,
    "ExecuteTime": {
     "end_time": "2023-07-11T14:41:51.607886500Z",
     "start_time": "2023-07-11T14:41:51.606378Z"
    }
   }
  },
  {
   "cell_type": "code",
   "execution_count": 4,
   "outputs": [],
   "source": [
    "# get env\n",
    "work_env = gymnasium.make(configuration[\"env_name\"], render=False, control_type=\"js\",\n",
    "                     obs_type=configuration[\"obs_type\"], goal_distance_threshold=0.05,\n",
    "                     goal_condition=goal_condition,\n",
    "                     reward_type=reward_type, limiter=configuration[\"limiter\"],\n",
    "                     show_goal_space=False, scenario=evaluation_scenario,\n",
    "                     randomize_robot_pose=False,  # if evaluation_scenario != \"wang_3\" else True,\n",
    "                     joint_obstacle_observation=\"vectors+all\",\n",
    "                     truncate_on_collision=True,\n",
    "                     terminate_on_success=True,\n",
    "                     show_debug_labels=False, n_substeps=n_substeps)\n"
   ],
   "metadata": {
    "collapsed": false,
    "ExecuteTime": {
     "end_time": "2023-07-11T14:41:52.483642700Z",
     "start_time": "2023-07-11T14:41:51.609887500Z"
    }
   }
  },
  {
   "cell_type": "code",
   "execution_count": 5,
   "outputs": [],
   "source": [
    "# get rendered env\n",
    "env = gymnasium.make(configuration[\"env_name\"],\n",
    "                     render=True, control_type=\"js\",\n",
    "                     obs_type=configuration[\"obs_type\"], goal_distance_threshold=0.05,\n",
    "                     goal_condition=goal_condition,\n",
    "                     reward_type=reward_type, limiter=configuration[\"limiter\"],\n",
    "                     show_goal_space=show_goal_space, scenario=evaluation_scenario,\n",
    "                     randomize_robot_pose=False,  # if evaluation_scenario != \"wang_3\" else True,\n",
    "                     joint_obstacle_observation=\"vectors+all\",\n",
    "                     truncate_on_collision=True,\n",
    "                     terminate_on_success=True,\n",
    "                     show_debug_labels=False, n_substeps=n_substeps)\n",
    "\n",
    "pybullet.resetDebugVisualizerCamera(cameraDistance=cameraDistance, cameraYaw=cameraYaw, cameraPitch=cameraPitch, cameraTargetPosition=cameraTargetPosition, physicsClientId=1)\n",
    "\n"
   ],
   "metadata": {
    "collapsed": false,
    "ExecuteTime": {
     "end_time": "2023-07-11T14:41:53.047786600Z",
     "start_time": "2023-07-11T14:41:52.485642500Z"
    }
   }
  },
  {
   "cell_type": "markdown",
   "source": [
    "work_env.robot.control_type = \"jsd\"\n",
    "results, metrics = evaluate.evaluate_ensemble([\"prior\"], work_env, human=human, num_episodes=100, deterministic=True,\n",
    "                                     strategy=\"\",\n",
    "                                     scenario_name=evaluation_scenario,\n",
    "                                     prior_orientation=prior_orientation)\n",
    "ee_pos = metrics[\"end_effector_positions\"]\n",
    "path_success = metrics[\"path_success\"]\n",
    "done_events  = metrics[\"done_events\"]"
   ],
   "metadata": {
    "collapsed": false
   }
  },
  {
   "cell_type": "code",
   "execution_count": 6,
   "outputs": [
    {
     "name": "stdout",
     "output_type": "stream",
     "text": [
      "Wrapping the env with a `Monitor` wrapper\n",
      "Wrapping the env in a DummyVecEnv.\n",
      "Wrapping the env with a `Monitor` wrapper\n",
      "Wrapping the env in a DummyVecEnv.\n",
      "Wrapping the env with a `Monitor` wrapper\n",
      "Wrapping the env in a DummyVecEnv.\n",
      "Wrapping the env with a `Monitor` wrapper\n",
      "Wrapping the env in a DummyVecEnv.\n",
      "Wrapping the env with a `Monitor` wrapper\n",
      "Wrapping the env in a DummyVecEnv.\n"
     ]
    },
    {
     "name": "stderr",
     "output_type": "stream",
     "text": [
      "wangexp_3: 100%|██████████| 50/50 [00:28<00:00,  1.75it/s]\n"
     ]
    }
   ],
   "source": [
    "num_episodes = 50\n",
    "work_env.robot.control_type = \"js\"\n",
    "model_names = [\"gallant-serenity-299\", \"deep-frog-298\", \"solar-microwave-297\", \"revived-serenity-296\",\n",
    "                \"glamorous-resonance-295\"]\n",
    "ensemble = []\n",
    "for model_name in model_names:\n",
    "    ensemble.append(TQC.load(fr\"../run/run_data/wandb/{model_name}/files/best_model.zip\", env=work_env,\n",
    "                     custom_objects={\"action_space\": gymnasium.spaces.Box(-1.0, 1.0, shape=(7,),dtype=np.float32)}))  # for some reason it won't read action space sometimes)\n",
    "\n",
    "results, metrics = evaluate.evaluate_ensemble(ensemble, work_env, human=False, num_episodes=num_episodes, deterministic=True,\n",
    "                                     strategy=\"variance_only\",\n",
    "                                     scenario_name=evaluation_scenario,\n",
    "                                     prior_orientation=\"\")\n",
    "ee_pos = metrics[\"end_effector_positions\"]\n",
    "path_success = metrics[\"path_success\"]\n",
    "done_events  = metrics[\"done_events\"]\n",
    "work_env.close()"
   ],
   "metadata": {
    "collapsed": false,
    "ExecuteTime": {
     "end_time": "2023-07-11T14:42:23.319065100Z",
     "start_time": "2023-07-11T14:41:53.050784600Z"
    }
   }
  },
  {
   "cell_type": "markdown",
   "source": [
    "pybullet.setRealTimeSimulation(0)\n",
    "loggingID = pybullet.startStateLogging(loggingType=pybullet.STATE_LOGGING_VIDEO_MP4, fileName = f\"videos/{evaluation_scenario}_mt-cl-ensemble.mp4\", physicsClientId=1)"
   ],
   "metadata": {
    "collapsed": false
   }
  },
  {
   "cell_type": "code",
   "execution_count": 7,
   "outputs": [
    {
     "name": "stdout",
     "output_type": "stream",
     "text": [
      "Wrapping the env with a `Monitor` wrapper\n",
      "Wrapping the env in a DummyVecEnv.\n",
      "Wrapping the env with a `Monitor` wrapper\n",
      "Wrapping the env in a DummyVecEnv.\n",
      "Wrapping the env with a `Monitor` wrapper\n",
      "Wrapping the env in a DummyVecEnv.\n",
      "Wrapping the env with a `Monitor` wrapper\n",
      "Wrapping the env in a DummyVecEnv.\n",
      "Wrapping the env with a `Monitor` wrapper\n",
      "Wrapping the env in a DummyVecEnv.\n"
     ]
    },
    {
     "name": "stderr",
     "output_type": "stream",
     "text": [
      "wangexp_3: 100%|██████████| 50/50 [00:45<00:00,  1.09it/s]\n"
     ]
    }
   ],
   "source": [
    "env.robot.control_type = \"js\"\n",
    "#pybullet.setRealTimeSimulation(enableRealTimeSimulation=1, physicsClientId=1)\n",
    "\n",
    "for model_name in model_names:\n",
    "    ensemble.append(TQC.load(fr\"../run/run_data/wandb/{model_name}/files/best_model.zip\", env=env,\n",
    "                     custom_objects={\"action_space\": gymnasium.spaces.Box(-1.0, 1.0, shape=(7,),dtype=np.float32)}))  # for some reason it won't read action space sometimes)\n",
    "\n",
    "_, _ = evaluate.evaluate_ensemble(ensemble, env, human=True, num_episodes=num_episodes, deterministic=True,\n",
    "                                     strategy=\"variance_only\",\n",
    "                                     scenario_name=evaluation_scenario,\n",
    "                                     prior_orientation=\"\",\n",
    "                                  pre_calc_metrics=metrics)\n"
   ],
   "metadata": {
    "collapsed": false,
    "ExecuteTime": {
     "end_time": "2023-07-11T14:43:09.403478Z",
     "start_time": "2023-07-11T14:42:23.320063900Z"
    }
   }
  },
  {
   "cell_type": "markdown",
   "source": [
    "pybullet.stopStateLogging(loggingID)\n",
    "env.close()"
   ],
   "metadata": {
    "collapsed": false
   }
  },
  {
   "cell_type": "code",
   "execution_count": 8,
   "outputs": [],
   "source": [
    "env.close()"
   ],
   "metadata": {
    "collapsed": false,
    "ExecuteTime": {
     "end_time": "2023-07-11T14:43:09.438944400Z",
     "start_time": "2023-07-11T14:43:09.403478Z"
    }
   }
  },
  {
   "cell_type": "markdown",
   "source": [
    "work_env.robot.control_type = \"js\"\n",
    "model_name = \"firm-pond-79\"\n",
    "model = TQC.load(fr\"../run/run_data/wandb/{model_name}/files/best_model.zip\", env=work_env,\n",
    "                 custom_objects={\"action_space\": gymnasium.spaces.Box(-1.0, 1.0, shape=(7,),\n",
    "                                                                      dtype=np.float32)})  # for some reason it won't read action space sometimes\n",
    "\n",
    "results, metrics = evaluate.evaluate_ensemble([model], work_env, human=human, num_episodes=100, deterministic=True,\n",
    "                                     strategy=\"variance_only\",\n",
    "                                     scenario_name=evaluation_scenario,\n",
    "                                     prior_orientation=\"\")\n",
    "ee_pos = metrics[\"end_effector_positions\"]\n",
    "path_success = metrics[\"path_success\"]\n",
    "done_events  = metrics[\"done_events\"]"
   ],
   "metadata": {
    "collapsed": false
   }
  },
  {
   "cell_type": "markdown",
   "source": [
    "# get rendered env\n",
    "env = gymnasium.make(configuration[\"env_name\"],\n",
    "                     render=True, control_type=\"js\",\n",
    "                     obs_type=configuration[\"obs_type\"], goal_distance_threshold=0.05,\n",
    "                     goal_condition=\"halt\",\n",
    "                     reward_type=reward_type, limiter=configuration[\"limiter\"],\n",
    "                     show_goal_space=False, scenario=evaluation_scenario,\n",
    "                     randomize_robot_pose=False,  # if evaluation_scenario != \"wang_3\" else True,\n",
    "                     joint_obstacle_observation=\"vectors+all\",\n",
    "                     truncate_on_collision=True,\n",
    "                     terminate_on_success=True,\n",
    "                     show_debug_labels=True, n_substeps=n_substeps)"
   ],
   "metadata": {
    "collapsed": false
   }
  },
  {
   "cell_type": "code",
   "execution_count": 9,
   "outputs": [],
   "source": [
    "\n",
    "# pybullet.changeVisualShape(objectUniqueId=0, linkIndex=1, rgbaColor=[1,1,1,0.5], physicsClientId=1)\n",
    "# pybullet.changeVisualShape(objectUniqueId=0, linkIndex=3, rgbaColor=[1,1,1,1], physicsClientId=1)\n",
    "# pybullet.changeVisualShape(objectUniqueId=0, linkIndex=2, rgbaColor=[1,1,1,0.5])\n",
    "# pybullet.changeVisualShape(objectUniqueId=0, linkIndex=1, rgbaColor=[1,1,1,0.5])\n",
    "# pybullet.changeVisualShape(objectUniqueId=0, linkIndex=0, rgbaColor=[1,1,1,0.5])"
   ],
   "metadata": {
    "collapsed": false,
    "ExecuteTime": {
     "end_time": "2023-07-11T14:43:09.438944400Z",
     "start_time": "2023-07-11T14:43:09.427211Z"
    }
   }
  },
  {
   "cell_type": "code",
   "execution_count": 9,
   "outputs": [],
   "source": [],
   "metadata": {
    "collapsed": false,
    "ExecuteTime": {
     "end_time": "2023-07-11T14:43:09.438944400Z",
     "start_time": "2023-07-11T14:43:09.431042100Z"
    }
   }
  },
  {
   "cell_type": "code",
   "execution_count": 9,
   "outputs": [],
   "source": [],
   "metadata": {
    "collapsed": false,
    "ExecuteTime": {
     "end_time": "2023-07-11T14:43:09.438944400Z",
     "start_time": "2023-07-11T14:43:09.434431100Z"
    }
   }
  },
  {
   "cell_type": "code",
   "execution_count": 10,
   "outputs": [],
   "source": [
    "#env.close()"
   ],
   "metadata": {
    "collapsed": false,
    "ExecuteTime": {
     "end_time": "2023-07-11T14:43:09.444392600Z",
     "start_time": "2023-07-11T14:43:09.438944400Z"
    }
   }
  },
  {
   "cell_type": "code",
   "execution_count": 10,
   "outputs": [],
   "source": [],
   "metadata": {
    "collapsed": false,
    "ExecuteTime": {
     "end_time": "2023-07-11T14:43:09.444392600Z",
     "start_time": "2023-07-11T14:43:09.442881400Z"
    }
   }
  }
 ],
 "metadata": {
  "kernelspec": {
   "display_name": "Python 3",
   "language": "python",
   "name": "python3"
  },
  "language_info": {
   "codemirror_mode": {
    "name": "ipython",
    "version": 2
   },
   "file_extension": ".py",
   "mimetype": "text/x-python",
   "name": "python",
   "nbconvert_exporter": "python",
   "pygments_lexer": "ipython2",
   "version": "2.7.6"
  }
 },
 "nbformat": 4,
 "nbformat_minor": 0
}
