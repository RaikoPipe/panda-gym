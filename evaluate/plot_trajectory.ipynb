{
 "cells": [
  {
   "cell_type": "code",
   "execution_count": 1,
   "metadata": {
    "collapsed": true,
    "ExecuteTime": {
     "end_time": "2023-06-29T15:27:25.552230200Z",
     "start_time": "2023-06-29T15:27:23.155457300Z"
    }
   },
   "outputs": [
    {
     "name": "stderr",
     "output_type": "stream",
     "text": [
      "C:\\Users\\eclip\\GitHub\\panda-gym\\venv\\Lib\\site-packages\\gymnasium-0.28.1-py3.11.egg\\gymnasium\\envs\\registration.py:693: UserWarning: \u001B[33mWARN: Overriding environment PandaReachAO-v3 already in registry.\u001B[0m\n",
      "  logger.warn(f\"Overriding environment {new_spec.id} already in registry.\")\n"
     ]
    }
   ],
   "source": [
    "import numpy as np\n",
    "import matplotlib.pyplot as plt\n",
    "import evaluate\n",
    "from mpl_toolkits.mplot3d import Axes3D\n",
    "import gymnasium\n",
    "from run.train import configuration\n",
    "import json\n",
    "from copy import copy, deepcopy\n",
    "import panda_gym\n",
    "import pybullet\n",
    "from sb3_contrib import TQC\n",
    "import winsound"
   ]
  },
  {
   "cell_type": "code",
   "execution_count": 2,
   "outputs": [],
   "source": [
    "# standard settings\n",
    "human=False\n",
    "reward_type=\"kumar_her\"\n",
    "n_substeps=20\n",
    "max_ep_steps = 200\n",
    "goal_condition=\"reach\"\n",
    "#register envs\n",
    "panda_gym.register_reach_ao(max_ep_steps)\n",
    "\n",
    "# visual stuff\n",
    "sphere_list = []\n",
    "sphere_count = 0"
   ],
   "metadata": {
    "collapsed": false,
    "ExecuteTime": {
     "end_time": "2023-06-29T15:27:25.555831400Z",
     "start_time": "2023-06-29T15:27:25.553231Z"
    }
   }
  },
  {
   "cell_type": "markdown",
   "source": [
    "# narrow_tunnel\n",
    "evaluation_scenario=\"narrow_tunnel\"\n",
    "prior_orientation=\"left\""
   ],
   "metadata": {
    "collapsed": false
   }
  },
  {
   "cell_type": "markdown",
   "source": [
    "# library 2\n",
    "evaluation_scenario=\"library2\"\n",
    "prior_orientation=\"back\""
   ],
   "metadata": {
    "collapsed": false
   }
  },
  {
   "cell_type": "code",
   "execution_count": 3,
   "outputs": [],
   "source": [
    "# workshop\n",
    "evaluation_scenario=\"workshop\"\n",
    "prior_orientation=\"fkine\""
   ],
   "metadata": {
    "collapsed": false,
    "ExecuteTime": {
     "end_time": "2023-06-29T15:27:25.559472600Z",
     "start_time": "2023-06-29T15:27:25.556831200Z"
    }
   }
  },
  {
   "cell_type": "markdown",
   "source": [
    "# wall\n",
    "evaluation_scenario=\"wall\"\n",
    "prior_orientation=\"fkine\""
   ],
   "metadata": {
    "collapsed": false
   }
  },
  {
   "cell_type": "code",
   "execution_count": 3,
   "outputs": [],
   "source": [],
   "metadata": {
    "collapsed": false,
    "ExecuteTime": {
     "end_time": "2023-06-29T15:27:25.562884500Z",
     "start_time": "2023-06-29T15:27:25.561368600Z"
    }
   }
  },
  {
   "cell_type": "code",
   "execution_count": 3,
   "outputs": [],
   "source": [],
   "metadata": {
    "collapsed": false,
    "ExecuteTime": {
     "end_time": "2023-06-29T15:27:25.565804100Z",
     "start_time": "2023-06-29T15:27:25.564292Z"
    }
   }
  },
  {
   "cell_type": "code",
   "execution_count": 4,
   "outputs": [],
   "source": [
    "# get work env\n",
    "work_env = gymnasium.make(configuration[\"env_name\"], render=False, control_type=\"js\",\n",
    "                     obs_type=configuration[\"obs_type\"], goal_distance_threshold=0.05,\n",
    "                     goal_condition=goal_condition,\n",
    "                     reward_type=reward_type, limiter=configuration[\"limiter\"],\n",
    "                     show_goal_space=False, scenario=evaluation_scenario,\n",
    "                     randomize_robot_pose=False,  # if evaluation_scenario != \"wang_3\" else True,\n",
    "                     joint_obstacle_observation=\"vectors+all\",\n",
    "                     truncate_on_collision=True,\n",
    "                     terminate_on_success=True,\n",
    "                     show_debug_labels=True, n_substeps=n_substeps)\n"
   ],
   "metadata": {
    "collapsed": false,
    "ExecuteTime": {
     "end_time": "2023-06-29T15:27:26.487960Z",
     "start_time": "2023-06-29T15:27:25.567807300Z"
    }
   }
  },
  {
   "cell_type": "code",
   "execution_count": 5,
   "outputs": [
    {
     "name": "stderr",
     "output_type": "stream",
     "text": [
      "workshop:   0%|          | 0/100 [00:00<?, ?it/s]"
     ]
    },
    {
     "name": "stdout",
     "output_type": "stream",
     "text": [
      "Restricted license - for non-production use only - expires 2024-10-28\n"
     ]
    },
    {
     "name": "stderr",
     "output_type": "stream",
     "text": [
      "C:\\Users\\eclip\\GitHub\\panda-gym\\panda_gym\\envs\\robots\\panda.py:375: FutureWarning: elementwise comparison failed; returning scalar instead, but in the future will perform elementwise comparison\n",
      "  if target_pose == \"left\":\n",
      "C:\\Users\\eclip\\GitHub\\panda-gym\\panda_gym\\envs\\robots\\panda.py:377: FutureWarning: elementwise comparison failed; returning scalar instead, but in the future will perform elementwise comparison\n",
      "  elif target_pose == \"right\":\n",
      "C:\\Users\\eclip\\GitHub\\panda-gym\\panda_gym\\envs\\robots\\panda.py:379: FutureWarning: elementwise comparison failed; returning scalar instead, but in the future will perform elementwise comparison\n",
      "  elif target_pose == \"front\":\n",
      "C:\\Users\\eclip\\GitHub\\panda-gym\\panda_gym\\envs\\robots\\panda.py:381: FutureWarning: elementwise comparison failed; returning scalar instead, but in the future will perform elementwise comparison\n",
      "  elif target_pose == \"back\":\n",
      "C:\\Users\\eclip\\GitHub\\panda-gym\\panda_gym\\envs\\robots\\panda.py:383: FutureWarning: elementwise comparison failed; returning scalar instead, but in the future will perform elementwise comparison\n",
      "  elif target_pose == \"halfback\":\n",
      "C:\\Users\\eclip\\GitHub\\panda-gym\\panda_gym\\envs\\robots\\panda.py:385: FutureWarning: elementwise comparison failed; returning scalar instead, but in the future will perform elementwise comparison\n",
      "  elif target_pose == \"neg_neutral\":\n",
      "C:\\Users\\eclip\\GitHub\\panda-gym\\panda_gym\\envs\\robots\\panda.py:387: FutureWarning: elementwise comparison failed; returning scalar instead, but in the future will perform elementwise comparison\n",
      "  elif target_pose == \"current\":\n",
      "C:\\Users\\eclip\\GitHub\\panda-gym\\evaluate\\evaluate.py:101: FutureWarning: elementwise comparison failed; returning scalar instead, but in the future will perform elementwise comparison\n",
      "  if prior_orientation == \"fkine\":\n",
      "workshop: 100%|██████████| 100/100 [07:26<00:00,  4.47s/it]\n"
     ]
    }
   ],
   "source": [
    "work_env.robot.control_type = \"jsd\"\n",
    "results, metrics = evaluate.evaluate_ensemble([\"prior\"], work_env, human=human, num_episodes=100, deterministic=True,\n",
    "                                     strategy=\"\",\n",
    "                                     scenario_name=evaluation_scenario,\n",
    "                                     prior_orientation=prior_orientation)\n",
    "ee_pos = metrics[\"end_effector_positions\"]\n",
    "path_success = metrics[\"path_success\"]\n",
    "done_events  = metrics[\"done_events\"]"
   ],
   "metadata": {
    "collapsed": false,
    "ExecuteTime": {
     "end_time": "2023-06-29T15:34:53.494679800Z",
     "start_time": "2023-06-29T15:27:26.488958800Z"
    }
   }
  },
  {
   "cell_type": "code",
   "execution_count": 10,
   "outputs": [
    {
     "name": "stdout",
     "output_type": "stream",
     "text": [
      "Wrapping the env with a `Monitor` wrapper\n",
      "Wrapping the env in a DummyVecEnv.\n"
     ]
    },
    {
     "name": "stderr",
     "output_type": "stream",
     "text": [
      "workshop: 100%|██████████| 100/100 [04:23<00:00,  2.63s/it]\n"
     ]
    }
   ],
   "source": [
    "work_env.robot.control_type = \"js\"\n",
    "model_name = \"glad-universe-418\"\n",
    "model = TQC.load(fr\"../run/run_data/wandb/{model_name}/files/best_model.zip\", env=work_env,\n",
    "                 custom_objects={\"action_space\": gymnasium.spaces.Box(-1.0, 1.0, shape=(7,),\n",
    "                                                                      dtype=np.float32)})  # for some reason it won't read action space sometimes\n",
    "\n",
    "results, metrics = evaluate.evaluate_ensemble([model], work_env, human=human, num_episodes=100, deterministic=True,\n",
    "                                     strategy=\"variance_only\",\n",
    "                                     scenario_name=evaluation_scenario,\n",
    "                                     prior_orientation=\"\")\n",
    "ee_pos = metrics[\"end_effector_positions\"]\n",
    "path_success = metrics[\"path_success\"]\n",
    "done_events  = metrics[\"done_events\"]"
   ],
   "metadata": {
    "collapsed": false,
    "ExecuteTime": {
     "end_time": "2023-06-29T15:54:58.812719100Z",
     "start_time": "2023-06-29T15:50:33.384554100Z"
    }
   }
  },
  {
   "cell_type": "code",
   "execution_count": null,
   "outputs": [],
   "source": [
    "# get rendered env\n",
    "env = gymnasium.make(configuration[\"env_name\"],\n",
    "                     render=True, control_type=\"js\",\n",
    "                     obs_type=configuration[\"obs_type\"], goal_distance_threshold=0.05,\n",
    "                     goal_condition=\"halt\",\n",
    "                     reward_type=reward_type, limiter=configuration[\"limiter\"],\n",
    "                     show_goal_space=True, scenario=evaluation_scenario,\n",
    "                     randomize_robot_pose=False,  # if evaluation_scenario != \"wang_3\" else True,\n",
    "                     joint_obstacle_observation=\"vectors+all\",\n",
    "                     truncate_on_collision=True,\n",
    "                     terminate_on_success=True,\n",
    "                     show_debug_labels=True, n_substeps=n_substeps)"
   ],
   "metadata": {
    "collapsed": false
   }
  },
  {
   "cell_type": "code",
   "execution_count": 11,
   "outputs": [],
   "source": [
    "# clear env\n",
    "env.task.sim.remove_all_debug_text()\n",
    "for sphere in sphere_list:\n",
    "    env.task.sim.physics_client.removeBody(env.task.sim._bodies_idx[sphere])\n",
    "env.task.create_goal_outline() # workaround\n",
    "\n",
    "# hide goal\n",
    "env.task.sim.set_base_pose(\"target\", np.array([0.0, 0.0, -1.0]), np.array([0.0, 0.0, 0.0, 1.0]))\n",
    "# change visual shape of robot\n",
    "\n",
    "path_suc2 = path_success[:50]\n",
    "done_suc2 = np.ones(50) #metrics[\"done_events\"][100:200]\n",
    "done_normal = done_events[100:200]\n",
    "path_normal = ee_pos[100:200]\n",
    "\n",
    "for trajectory, done_event in zip(ee_pos, done_events):\n",
    "    color = 1.0\n",
    "    traj = deepcopy(trajectory)\n",
    "    final_pos = copy(traj[-1])\n",
    "    xyz1 = traj.pop()\n",
    "\n",
    "\n",
    "    while traj:\n",
    "        xyz2 = traj.pop()\n",
    "        pybullet.addUserDebugLine(lineFromXYZ=xyz1, lineToXYZ=xyz2, lineColorRGB=np.array([1-color,color,0]), physicsClientId=1, lifeTime=0, lineWidth=2)\n",
    "        color = len(traj)/len(trajectory)#1/max_ep_steps\n",
    "        xyz1 = xyz2\n",
    "\n",
    "    if done_event == 1:\n",
    "            env.task.sim.create_sphere(\n",
    "            body_name=f\"sphere{sphere_count}\",\n",
    "            radius=0.01,\n",
    "            mass=0.0,\n",
    "            ghost=True,\n",
    "            position=final_pos,\n",
    "            rgba_color=np.array([0.0, 1.0, 0.0, 1.0]),\n",
    "        )\n",
    "    elif done_event == 0:\n",
    "        env.task.sim.create_sphere(\n",
    "            body_name=f\"sphere{sphere_count}\",\n",
    "            radius=0.01,\n",
    "            mass=0.0,\n",
    "            ghost=True,\n",
    "            position=final_pos,\n",
    "            rgba_color=np.array([1.0, 1.0, 0.0, 1.0]),\n",
    "        )\n",
    "    else:\n",
    "        env.task.sim.create_sphere(\n",
    "            body_name=f\"sphere{sphere_count}\",\n",
    "            radius=0.01,\n",
    "            mass=0.0,\n",
    "            ghost=True,\n",
    "            position=final_pos,\n",
    "            rgba_color=np.array([1.0, 0.0, 0.0, 1.0]),\n",
    "        )\n",
    "    sphere_list.append(f\"sphere{sphere_count}\")\n",
    "    sphere_count += 1\n",
    "\n",
    "# plot with debug line\n",
    "\n",
    "\n",
    "# Plotting\n",
    "# fig = plt.figure()\n",
    "# ax = fig.add_subplot(111, projection='3d')\n",
    "#\n",
    "# ax.plot(x, y, z, label='3D trajectory')\n",
    "# ax.legend()\n",
    "#\n",
    "# plt.show()\n",
    "winsound.Beep(2000, 1000)"
   ],
   "metadata": {
    "collapsed": false,
    "ExecuteTime": {
     "end_time": "2023-06-29T15:55:42.972190400Z",
     "start_time": "2023-06-29T15:54:58.816233Z"
    }
   }
  },
  {
   "cell_type": "code",
   "execution_count": 9,
   "outputs": [],
   "source": [
    "\n",
    "pybullet.changeVisualShape(objectUniqueId=0, linkIndex=2, rgbaColor=[1,1,1,0.5], physicsClientId=1)\n",
    "pybullet.changeVisualShape(objectUniqueId=0, linkIndex=3, rgbaColor=[1,1,1,0.5], physicsClientId=1)\n",
    "# pybullet.changeVisualShape(objectUniqueId=0, linkIndex=2, rgbaColor=[1,1,1,0.5])\n",
    "# pybullet.changeVisualShape(objectUniqueId=0, linkIndex=1, rgbaColor=[1,1,1,0.5])\n",
    "# pybullet.changeVisualShape(objectUniqueId=0, linkIndex=0, rgbaColor=[1,1,1,0.5])"
   ],
   "metadata": {
    "collapsed": false,
    "ExecuteTime": {
     "end_time": "2023-06-29T15:47:11.370414200Z",
     "start_time": "2023-06-29T15:47:11.274983800Z"
    }
   }
  },
  {
   "cell_type": "code",
   "execution_count": 8,
   "outputs": [],
   "source": [],
   "metadata": {
    "collapsed": false,
    "ExecuteTime": {
     "end_time": "2023-06-29T15:39:31.427099600Z",
     "start_time": "2023-06-29T15:39:31.424580100Z"
    }
   }
  },
  {
   "cell_type": "code",
   "execution_count": 8,
   "outputs": [],
   "source": [],
   "metadata": {
    "collapsed": false,
    "ExecuteTime": {
     "end_time": "2023-06-29T15:39:31.430931100Z",
     "start_time": "2023-06-29T15:39:31.428490100Z"
    }
   }
  },
  {
   "cell_type": "code",
   "execution_count": 8,
   "outputs": [],
   "source": [],
   "metadata": {
    "collapsed": false,
    "ExecuteTime": {
     "end_time": "2023-06-29T15:39:31.432443800Z",
     "start_time": "2023-06-29T15:39:31.430931100Z"
    }
   }
  }
 ],
 "metadata": {
  "kernelspec": {
   "display_name": "Python 3",
   "language": "python",
   "name": "python3"
  },
  "language_info": {
   "codemirror_mode": {
    "name": "ipython",
    "version": 2
   },
   "file_extension": ".py",
   "mimetype": "text/x-python",
   "name": "python",
   "nbconvert_exporter": "python",
   "pygments_lexer": "ipython2",
   "version": "2.7.6"
  }
 },
 "nbformat": 4,
 "nbformat_minor": 0
}
