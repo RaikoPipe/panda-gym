{
 "cells": [
  {
   "cell_type": "code",
   "execution_count": 1,
   "metadata": {
    "collapsed": true,
    "ExecuteTime": {
     "end_time": "2024-07-11T12:19:44.369644Z",
     "start_time": "2024-07-11T12:19:37.469788Z"
    }
   },
   "outputs": [],
   "source": [
    "import numpy as np\n",
    "import gymnasium\n",
    "\n",
    "import panda_gym\n",
    "import pybullet\n",
    "from sb3_contrib import TQC\n",
    "import evaluate"
   ]
  },
  {
   "cell_type": "code",
   "execution_count": 2,
   "outputs": [
    {
     "name": "stderr",
     "output_type": "stream",
     "text": [
      "C:\\Users\\ladmin\\PycharmProjects\\panda-gym\\venv\\Lib\\site-packages\\gymnasium\\envs\\registration.py:694: UserWarning: \u001B[33mWARN: Overriding environment PandaReachAO-v3 already in registry.\u001B[0m\n",
      "  logger.warn(f\"Overriding environment {new_spec.id} already in registry.\")\n"
     ]
    }
   ],
   "source": [
    "# evaluation settings\n",
    "n_substeps=20\n",
    "max_ep_steps = 200\n",
    "goal_condition=\"halt\"\n",
    "num_episodes = 100\n",
    "#register envs\n",
    "panda_gym.register_reach_ao(max_ep_steps)\n",
    "\n",
    "# visual stuff\n",
    "sphere_list = []\n",
    "sphere_count = 0\n",
    "human = True # render the environment during evaluation"
   ],
   "metadata": {
    "collapsed": false,
    "ExecuteTime": {
     "end_time": "2024-07-11T12:20:18.924227Z",
     "start_time": "2024-07-11T12:20:18.908847Z"
    }
   }
  },
  {
   "cell_type": "code",
   "outputs": [],
   "source": [
    "# default path options\n",
    "default_path = \"../training/run_data/wandb\"\n",
    "default_model_location = 'files/best_model.zip'\n",
    "default_yaml_location = \"files/config.yaml\"\n",
    "\n",
    "# model names\n",
    "model_names = [\"learning_test_blind\"]\n",
    "\n",
    "# model paths\n",
    "model_paths = [f\"{default_path}/{model_name}/{default_model_location}\" for model_name in model_names]"
   ],
   "metadata": {
    "collapsed": false,
    "ExecuteTime": {
     "end_time": "2024-07-11T12:20:19.818377Z",
     "start_time": "2024-07-11T12:20:19.814565Z"
    }
   },
   "execution_count": 3
  },
  {
   "cell_type": "code",
   "outputs": [
    {
     "data": {
      "text/plain": "TrainConfig(name='learning_test_blind', job_type='train', algorithm='TQC', replay_buffer_class='stable_baselines3.her.her_replay_buffer.HerReplayBuffer', policy_type='MultiInputPolicy', learning_starts=10000, prior_steps=0, seed=0, n_envs=8, env_name='PandaReachAO-v3', randomize_robot_pose=False, truncate_on_collision=True, terminate_on_success=True, fixed_target=None, reward_type='sparse', collision_reward=-100, goal_condition='reach', ee_error_thresholds=[0.05, 0.05, 0.05], speed_thresholds=[0.5, 0.1, 0.01], max_timesteps=600000, max_ep_steps=[75, 150, 200], n_substeps=20, stages=['base1', 'base2', 'wangexp_3'], success_thresholds=[0.8, 0.8, 1.0], eval_freq=2000, obs_type=['ee', 'js'], control_type='js', action_limiter='clip', limiter='sim', task_observations={'obstacles': 'vectors', 'prior': None}, render=False, show_goal_space=False, show_debug_labels=False, hyperparams='<classes.hyperparameters.Hyperparameters object at 0x00000244487631D0>')"
     },
     "execution_count": 4,
     "metadata": {},
     "output_type": "execute_result"
    }
   ],
   "source": [
    "from classes.train_config import TrainConfig\n",
    "import yaml\n",
    "\n",
    "with open(f\"{default_path}/{model_names[0]}/{default_yaml_location}\", 'r') as stream:\n",
    "    try:\n",
    "        yaml_config = yaml.safe_load(stream)\n",
    "    except yaml.YAMLError as exc:\n",
    "        print(exc)\n",
    "        \n",
    "configuration = TrainConfig()\n",
    "# omit wandb version\n",
    "for key, value in yaml_config.items():\n",
    "    if isinstance(value, dict):\n",
    "        setattr(configuration, key, value[\"value\"])\n",
    "\n",
    "# configuration.n_substeps = n_substeps\n",
    "# configuration.goal_condition = goal_condition\n",
    "\n",
    "configuration"
   ],
   "metadata": {
    "collapsed": false,
    "ExecuteTime": {
     "end_time": "2024-07-11T12:20:20.575946Z",
     "start_time": "2024-07-11T12:20:20.526157Z"
    }
   },
   "execution_count": 4
  },
  {
   "cell_type": "markdown",
   "source": [
    "# training env\n",
    "evaluation_scenario=\"wangexp_3\"\n",
    "prior_orientation=\"fkine\"\n",
    "show_goal_space = True\n",
    "cameraTargetPosition = (0.06289377063512802, 0.05091303586959839, 0.27599984407424927)\n",
    "cameraDistance = 1.359999656677246\n",
    "cameraPitch = -33.20000076293945\n",
    "cameraYaw = 51.800025939941406"
   ],
   "metadata": {
    "collapsed": false
   }
  },
  {
   "cell_type": "code",
   "outputs": [],
   "source": [
    "# narrow_tunnel\n",
    "evaluation_scenario=\"narrow_tunnel\"\n",
    "prior_orientation=\"left\"\n",
    "show_goal_space = True\n",
    "cameraTargetPosition = (0.6126745939254761, -0.002699121832847595, 0.3287460505962372)\n",
    "cameraDistance = 1.119999885559082\n",
    "cameraPitch = -42.800045013427734\n",
    "cameraYaw = 221.39991760253906"
   ],
   "metadata": {
    "collapsed": false,
    "ExecuteTime": {
     "end_time": "2024-07-11T12:20:39.382225Z",
     "start_time": "2024-07-11T12:20:39.378450Z"
    }
   },
   "execution_count": 6
  },
  {
   "cell_type": "markdown",
   "source": [
    "# library 1\n",
    "evaluation_scenario=\"library1\"\n",
    "prior_orientation=\"back\"\n",
    "show_goal_space = True\n",
    "cameraTargetPosition = (0.09789270907640457, 0.09457920491695404, 0.3600000739097595)\n",
    "cameraDistance = 1.5399994850158691\n",
    "cameraPitch = -36.4000129699707\n",
    "cameraYaw = 49.800018310546875"
   ],
   "metadata": {
    "collapsed": false
   }
  },
  {
   "cell_type": "markdown",
   "source": [
    "# library 2\n",
    "evaluation_scenario=\"library2\"\n",
    "prior_orientation=\"back\"\n",
    "show_goal_space = True\n",
    "cameraTargetPosition = (0.09789270907640457, 0.09457920491695404, 0.3600000739097595)\n",
    "cameraDistance = 1.5399994850158691\n",
    "cameraPitch = -36.4000129699707\n",
    "cameraYaw = 49.800018310546875"
   ],
   "metadata": {
    "collapsed": false
   }
  },
  {
   "cell_type": "markdown",
   "source": [
    "# workshop\n",
    "evaluation_scenario=\"workshop\"\n",
    "prior_orientation=\"fkine\"\n",
    "show_goal_space = True\n",
    "cameraTargetPosition = (-0.05694245547056198, -0.08760415762662888, 0.3400000035762787)\n",
    "cameraDistance = 1.299999713897705\n",
    "cameraPitch = -42.8000373840332\n",
    "cameraYaw = 224.19996643066406"
   ],
   "metadata": {
    "collapsed": false
   }
  },
  {
   "cell_type": "markdown",
   "source": [
    "# wall\n",
    "evaluation_scenario=\"wall\"\n",
    "prior_orientation=\"fkine\"\n",
    "show_goal_space = True\n",
    "cameraTargetPosition = (0.03229629248380661, 0.10305798053741455, 0.012000000104308128)\n",
    "cameraDistance = 1.5399994850158691\n",
    "cameraPitch = -30.399999618530273\n",
    "cameraYaw = 66.60003662109375"
   ],
   "metadata": {
    "collapsed": false
   }
  },
  {
   "cell_type": "markdown",
   "source": [
    "# get config parameters"
   ],
   "metadata": {
    "collapsed": false
   }
  },
  {
   "cell_type": "code",
   "outputs": [],
   "source": [
    "ee_error_threshold = configuration.ee_error_thresholds[-1]\n",
    "speed_threshold = configuration.speed_thresholds[-1]"
   ],
   "metadata": {
    "collapsed": false,
    "ExecuteTime": {
     "end_time": "2024-07-11T12:20:42.343138Z",
     "start_time": "2024-07-11T12:20:42.339465Z"
    }
   },
   "execution_count": 7
  },
  {
   "cell_type": "markdown",
   "source": [
    "## init work environment"
   ],
   "metadata": {
    "collapsed": false
   }
  },
  {
   "cell_type": "code",
   "execution_count": 11,
   "outputs": [],
   "source": [
    "# visual options\n",
    "configuration.show_debug_labels = False\n",
    "configuration.show_goal_space = False\n",
    "\n",
    "# get env\n",
    "work_env = gymnasium.make(configuration.env_name,\n",
    "    render=False,\n",
    "    config=configuration,\n",
    "                          scenario=evaluation_scenario,\n",
    "                          ee_error_threshold=ee_error_threshold,\n",
    "                            speed_threshold=speed_threshold)\n"
   ],
   "metadata": {
    "collapsed": false,
    "ExecuteTime": {
     "end_time": "2024-07-11T12:29:14.796434Z",
     "start_time": "2024-07-11T12:29:14.644303Z"
    }
   }
  },
  {
   "cell_type": "markdown",
   "source": [
    "## Prior Benchmark"
   ],
   "metadata": {
    "collapsed": false
   }
  },
  {
   "cell_type": "markdown",
   "source": [
    "# collect prior results\n",
    "controller_config = {\n",
    "            'name': 'custom1',\n",
    "            \"velocity_gain\": 0.5,  # gain for the velocity control\n",
    "            \"threshold_error\": 0.05,  # tolerance of the final error between the robot's pose and desired pose\n",
    "            \"gain_control_minimization\": 0.01,  # gain for the control minimization\n",
    "            \"min_angle_joint\": 0.05,  # minimum angle in which the joint is allowed to approach to its limit\n",
    "            \"min_angle_joint_damp_active\": 0.9,  # influence angle to joints in which the velocity damper becomes active\n",
    "            'min_dist_obstacle': 0.1,  # minimum distance in which the link is allowed to approach the object shape\n",
    "            'min_dist_obstacle_damp_active': 0.3,\n",
    "            # influence distance to obstacles in which the damper becomes active\n",
    "            'damp_gain': 1.0,  # The gain for the velocity damper\n",
    "        }\n",
    "\n",
    "work_env.unwrapped.robot.control_type = \"js\"\n",
    "results, metrics = evaluate.perform_benchmark(\"prior\", work_env.unwrapped, human=False, num_episodes=num_episodes, deterministic=True,\n",
    "                                     strategy=controller_config,\n",
    "                                     scenario_name=evaluation_scenario,\n",
    "                                     prior_orientation=prior_orientation)\n",
    "ee_pos = metrics[\"end_effector_positions\"]\n",
    "path_success = metrics[\"path_success\"]\n",
    "done_events  = metrics[\"done_events\"]\n",
    "\n",
    "evaluation_results = {evaluation_scenario: {\"results\": results, \"metrics\": metrics}}\n",
    "\n",
    "evaluate.display_and_save_benchmark_results(agent_type='prior', eval_type='manual', evaluation_results=evaluation_results, strategy=controller_config)"
   ],
   "metadata": {
    "collapsed": false
   }
  },
  {
   "cell_type": "markdown",
   "source": [
    "## agent benchmark"
   ],
   "metadata": {
    "collapsed": false
   }
  },
  {
   "cell_type": "code",
   "outputs": [
    {
     "name": "stdout",
     "output_type": "stream",
     "text": [
      "Wrapping the env with a `Monitor` wrapper\n",
      "Wrapping the env in a DummyVecEnv.\n"
     ]
    },
    {
     "name": "stderr",
     "output_type": "stream",
     "text": [
      "narrow_tunnel: 100%|██████████| 100/100 [00:31<00:00,  3.20it/s]\n"
     ]
    },
    {
     "data": {
      "text/plain": "{'mean_reward': -108.2079,\n 'success_rate': 0.15,\n 'collision_rate': 0.85,\n 'timeout_rate': 0.0,\n 'num_episodes': 100,\n 'mean_ep_length': 24.44,\n 'mean_ep_length_success': 16.9333,\n 'mean_num_sim_steps': 488.8,\n 'mean_num_sim_steps_success': 338.6667,\n 'mean_effort': 0.8335,\n 'mean_manipulability': 0.1756,\n 'mean_norm_jerk': 1.545,\n 'mean_ee_speed': 0.8951,\n 'model_0_action_rate': 24.44}"
     },
     "execution_count": 12,
     "metadata": {},
     "output_type": "execute_result"
    }
   ],
   "source": [
    "# collect agent results\n",
    "work_env.unwrapped.robot.control_type = \"js\"\n",
    "    \n",
    "ensemble = []\n",
    "for model_name in model_names:\n",
    "    ensemble.append(TQC.load(fr\"../training/run_data/wandb/{model_name}/files/best_model.zip\", env=work_env,\n",
    "                     custom_objects={\"action_space\": gymnasium.spaces.Box(-1.0, 1.0, shape=(7,),dtype=np.float32)}))  # for some reason it won't read action space sometimes)\n",
    "\n",
    "results, metrics = evaluate.perform_benchmark(ensemble, work_env, human=False, num_episodes=num_episodes, deterministic=True,\n",
    "                                     strategy=\"variance_only\",\n",
    "                                     scenario_name=evaluation_scenario,\n",
    "                                     prior_orientation=\"\")\n",
    "ee_pos = metrics[\"end_effector_positions\"]\n",
    "path_success = metrics[\"path_success\"]\n",
    "done_events  = metrics[\"done_events\"]\n",
    "work_env.close()\n",
    "\n",
    "results"
   ],
   "metadata": {
    "collapsed": false,
    "ExecuteTime": {
     "end_time": "2024-07-11T12:29:48.969620Z",
     "start_time": "2024-07-11T12:29:17.227030Z"
    }
   },
   "execution_count": 12
  },
  {
   "cell_type": "markdown",
   "source": [
    "pybullet.setRealTimeSimulation(0)\n",
    "loggingID = pybullet.startStateLogging(loggingType=pybullet.STATE_LOGGING_VIDEO_MP4, fileName = f\"videos/{evaluation_scenario}_mt-cl-ensemble.mp4\", physicsClientId=1)"
   ],
   "metadata": {
    "collapsed": false
   }
  },
  {
   "cell_type": "markdown",
   "source": [
    "## Visualize results"
   ],
   "metadata": {
    "collapsed": false
   }
  },
  {
   "cell_type": "code",
   "outputs": [
    {
     "name": "stderr",
     "output_type": "stream",
     "text": [
      "C:\\Users\\ladmin\\PycharmProjects\\panda-gym\\venv\\Lib\\site-packages\\gymnasium\\core.py:311: UserWarning: \u001B[33mWARN: env.sim to get variables from other wrappers is deprecated and will be removed in v1.0, to get this variable you can do `env.unwrapped.sim` for environment variables or `env.get_wrapper_attr('sim')` that will search the reminding wrappers.\u001B[0m\n",
      "  logger.warn(\n"
     ]
    }
   ],
   "source": [
    "# visual options\n",
    "configuration['show_debug_labels'] = True\n",
    "configuration['show_goal_space'] = True\n",
    "\n",
    "# get rendered env\n",
    "env = gymnasium.make(configuration.env_name,\n",
    "    render=True,\n",
    "    config=configuration,\n",
    "                          scenario=evaluation_scenario,\n",
    "                          ee_error_threshold=ee_error_threshold,\n",
    "                            speed_threshold=speed_threshold)\n",
    "\n",
    "pybullet.resetDebugVisualizerCamera(cameraDistance=cameraDistance, cameraYaw=cameraYaw, cameraPitch=cameraPitch, cameraTargetPosition=cameraTargetPosition, physicsClientId=env.sim.physics_client._client)"
   ],
   "metadata": {
    "collapsed": false,
    "ExecuteTime": {
     "end_time": "2024-04-12T05:59:27.041742Z",
     "start_time": "2024-04-12T05:59:26.298148Z"
    }
   },
   "execution_count": 6
  },
  {
   "cell_type": "markdown",
   "source": [
    "# visualize/play prior results\n",
    "env.unwrapped.robot.control_type = \"js\"\n",
    "#pybullet.setRealTimeSimulation(enableRealTimeSimulation=1, physicsClientId=1)\n",
    "\n",
    "_, _ = evaluate.perform_benchmark(\"prior\", env, human=True, num_episodes=num_episodes, deterministic=True,\n",
    "                                     strategy=controller_config,\n",
    "                                     scenario_name=evaluation_scenario,\n",
    "                                     prior_orientation=prior_orientation,\n",
    "                                  pre_calc_metrics=metrics)\n"
   ],
   "metadata": {
    "collapsed": false
   }
  },
  {
   "cell_type": "code",
   "outputs": [],
   "source": [],
   "metadata": {
    "collapsed": false,
    "ExecuteTime": {
     "end_time": "2024-04-12T05:59:27.044853Z",
     "start_time": "2024-04-12T05:59:27.042747Z"
    }
   },
   "execution_count": 6
  },
  {
   "cell_type": "markdown",
   "source": [
    "pybullet.stopStateLogging(loggingID)\n",
    "env.close()"
   ],
   "metadata": {
    "collapsed": false
   }
  },
  {
   "cell_type": "markdown",
   "source": [
    "env.close()"
   ],
   "metadata": {
    "collapsed": false
   }
  },
  {
   "cell_type": "code",
   "outputs": [
    {
     "name": "stderr",
     "output_type": "stream",
     "text": [
      "C:\\Users\\ladmin\\PycharmProjects\\panda-gym\\venv\\Lib\\site-packages\\gymnasium\\core.py:311: UserWarning: \u001B[33mWARN: env.task to get variables from other wrappers is deprecated and will be removed in v1.0, to get this variable you can do `env.unwrapped.task` for environment variables or `env.get_wrapper_attr('task')` that will search the reminding wrappers.\u001B[0m\n",
      "  logger.warn(\n",
      "wangexp_3:   0%|          | 0/100 [00:00<?, ?it/s]C:\\Users\\ladmin\\PycharmProjects\\panda-gym\\venv\\Lib\\site-packages\\gymnasium\\core.py:311: UserWarning: \u001B[33mWARN: env.sim to get variables from other wrappers is deprecated and will be removed in v1.0, to get this variable you can do `env.unwrapped.sim` for environment variables or `env.get_wrapper_attr('sim')` that will search the reminding wrappers.\u001B[0m\n",
      "  logger.warn(\n",
      "C:\\Users\\ladmin\\PycharmProjects\\panda-gym\\venv\\Lib\\site-packages\\gymnasium\\core.py:311: UserWarning: \u001B[33mWARN: env.robot to get variables from other wrappers is deprecated and will be removed in v1.0, to get this variable you can do `env.unwrapped.robot` for environment variables or `env.get_wrapper_attr('robot')` that will search the reminding wrappers.\u001B[0m\n",
      "  logger.warn(\n",
      "wangexp_3:  40%|████      | 40/100 [03:42<05:33,  5.56s/it]\n"
     ]
    },
    {
     "ename": "error",
     "evalue": "Not connected to physics server.",
     "output_type": "error",
     "traceback": [
      "\u001B[1;31m---------------------------------------------------------------------------\u001B[0m",
      "\u001B[1;31merror\u001B[0m                                     Traceback (most recent call last)",
      "Cell \u001B[1;32mIn[10], line 1\u001B[0m\n\u001B[1;32m----> 1\u001B[0m _, _ \u001B[38;5;241m=\u001B[39m \u001B[43mevaluate\u001B[49m\u001B[38;5;241;43m.\u001B[39;49m\u001B[43mperform_benchmark\u001B[49m\u001B[43m(\u001B[49m\u001B[43mensemble\u001B[49m\u001B[43m,\u001B[49m\u001B[43m \u001B[49m\u001B[43menv\u001B[49m\u001B[43m,\u001B[49m\u001B[43m \u001B[49m\u001B[43mhuman\u001B[49m\u001B[38;5;241;43m=\u001B[39;49m\u001B[38;5;28;43;01mTrue\u001B[39;49;00m\u001B[43m,\u001B[49m\u001B[43m \u001B[49m\u001B[43mnum_episodes\u001B[49m\u001B[38;5;241;43m=\u001B[39;49m\u001B[43mnum_episodes\u001B[49m\u001B[43m,\u001B[49m\u001B[43m \u001B[49m\u001B[43mdeterministic\u001B[49m\u001B[38;5;241;43m=\u001B[39;49m\u001B[38;5;28;43;01mTrue\u001B[39;49;00m\u001B[43m,\u001B[49m\n\u001B[0;32m      2\u001B[0m \u001B[43m                                     \u001B[49m\u001B[43mstrategy\u001B[49m\u001B[38;5;241;43m=\u001B[39;49m\u001B[38;5;124;43m'\u001B[39;49m\u001B[38;5;124;43mvariance_only\u001B[39;49m\u001B[38;5;124;43m'\u001B[39;49m\u001B[43m,\u001B[49m\n\u001B[0;32m      3\u001B[0m \u001B[43m                                     \u001B[49m\u001B[43mscenario_name\u001B[49m\u001B[38;5;241;43m=\u001B[39;49m\u001B[43mevaluation_scenario\u001B[49m\u001B[43m,\u001B[49m\n\u001B[0;32m      4\u001B[0m \u001B[43m                                     \u001B[49m\u001B[43mprior_orientation\u001B[49m\u001B[38;5;241;43m=\u001B[39;49m\u001B[43mprior_orientation\u001B[49m\u001B[43m,\u001B[49m\n\u001B[0;32m      5\u001B[0m \u001B[43m                                  \u001B[49m\u001B[43mpre_calc_metrics\u001B[49m\u001B[38;5;241;43m=\u001B[39;49m\u001B[43mmetrics\u001B[49m\u001B[43m)\u001B[49m\n",
      "File \u001B[1;32m~\\PycharmProjects\\panda-gym\\evaluate\\evaluate.py:143\u001B[0m, in \u001B[0;36mperform_benchmark\u001B[1;34m(models, env, human, num_episodes, deterministic, strategy, scenario_name, prior_orientation, pre_calc_metrics, show_model_actions)\u001B[0m\n\u001B[0;32m    141\u001B[0m     env\u001B[38;5;241m.\u001B[39mtask\u001B[38;5;241m.\u001B[39msim\u001B[38;5;241m.\u001B[39mset_base_pose(\u001B[38;5;124m\"\u001B[39m\u001B[38;5;124mtarget\u001B[39m\u001B[38;5;124m\"\u001B[39m, env\u001B[38;5;241m.\u001B[39mtask\u001B[38;5;241m.\u001B[39mgoal, np\u001B[38;5;241m.\u001B[39marray([\u001B[38;5;241m0.0\u001B[39m, \u001B[38;5;241m0.0\u001B[39m, \u001B[38;5;241m0.0\u001B[39m, \u001B[38;5;241m1.0\u001B[39m]))\n\u001B[0;32m    142\u001B[0m     \u001B[38;5;28;01mif\u001B[39;00m pre_calc_metrics:  \u001B[38;5;66;03m# of precalculated metrics are given, visualize\u001B[39;00m\n\u001B[1;32m--> 143\u001B[0m         \u001B[43mvisualize_trajectory\u001B[49m\u001B[43m(\u001B[49m\u001B[43menv\u001B[49m\u001B[43m,\u001B[49m\u001B[43m \u001B[49m\u001B[43mpre_calc_metrics\u001B[49m\u001B[43m[\u001B[49m\u001B[38;5;124;43m\"\u001B[39;49m\u001B[38;5;124;43mdone_events\u001B[39;49m\u001B[38;5;124;43m\"\u001B[39;49m\u001B[43m]\u001B[49m\u001B[43m[\u001B[49m\u001B[43mi\u001B[49m\u001B[43m]\u001B[49m\u001B[43m,\u001B[49m\n\u001B[0;32m    144\u001B[0m \u001B[43m                             \u001B[49m\u001B[43mpre_calc_metrics\u001B[49m\u001B[43m[\u001B[49m\u001B[38;5;124;43m\"\u001B[39;49m\u001B[38;5;124;43mend_effector_positions\u001B[39;49m\u001B[38;5;124;43m\"\u001B[39;49m\u001B[43m]\u001B[49m\u001B[43m[\u001B[49m\u001B[43mi\u001B[49m\u001B[43m]\u001B[49m\u001B[43m)\u001B[49m\n\u001B[0;32m    146\u001B[0m \u001B[38;5;28;01mwhile\u001B[39;00m \u001B[38;5;28;01mTrue\u001B[39;00m:\n\u001B[0;32m    147\u001B[0m     actions \u001B[38;5;241m=\u001B[39m []\n",
      "File \u001B[1;32m~\\PycharmProjects\\panda-gym\\evaluate\\evaluate.py:77\u001B[0m, in \u001B[0;36mvisualize_trajectory\u001B[1;34m(env, done_event, trajectory)\u001B[0m\n\u001B[0;32m     75\u001B[0m \u001B[38;5;28;01mwhile\u001B[39;00m traj:\n\u001B[0;32m     76\u001B[0m     xyz2 \u001B[38;5;241m=\u001B[39m traj\u001B[38;5;241m.\u001B[39mpop()\n\u001B[1;32m---> 77\u001B[0m     \u001B[43mpybullet\u001B[49m\u001B[38;5;241;43m.\u001B[39;49m\u001B[43maddUserDebugLine\u001B[49m\u001B[43m(\u001B[49m\u001B[43mlineFromXYZ\u001B[49m\u001B[38;5;241;43m=\u001B[39;49m\u001B[43mxyz1\u001B[49m\u001B[43m,\u001B[49m\u001B[43m \u001B[49m\u001B[43mlineToXYZ\u001B[49m\u001B[38;5;241;43m=\u001B[39;49m\u001B[43mxyz2\u001B[49m\u001B[43m,\u001B[49m\u001B[43m \u001B[49m\u001B[43mlineColorRGB\u001B[49m\u001B[38;5;241;43m=\u001B[39;49m\u001B[43mnp\u001B[49m\u001B[38;5;241;43m.\u001B[39;49m\u001B[43marray\u001B[49m\u001B[43m(\u001B[49m\u001B[43m[\u001B[49m\u001B[38;5;241;43m1\u001B[39;49m\u001B[43m \u001B[49m\u001B[38;5;241;43m-\u001B[39;49m\u001B[43m \u001B[49m\u001B[43mcolor\u001B[49m\u001B[43m,\u001B[49m\u001B[43m \u001B[49m\u001B[43mcolor\u001B[49m\u001B[43m,\u001B[49m\u001B[43m \u001B[49m\u001B[38;5;241;43m0\u001B[39;49m\u001B[43m]\u001B[49m\u001B[43m)\u001B[49m\u001B[43m,\u001B[49m\n\u001B[0;32m     78\u001B[0m \u001B[43m                              \u001B[49m\u001B[43mphysicsClientId\u001B[49m\u001B[38;5;241;43m=\u001B[39;49m\u001B[43menv\u001B[49m\u001B[38;5;241;43m.\u001B[39;49m\u001B[43msim\u001B[49m\u001B[38;5;241;43m.\u001B[39;49m\u001B[43mphysics_client\u001B[49m\u001B[38;5;241;43m.\u001B[39;49m\u001B[43m_client\u001B[49m\u001B[43m,\u001B[49m\u001B[43m \u001B[49m\u001B[43mlifeTime\u001B[49m\u001B[38;5;241;43m=\u001B[39;49m\u001B[38;5;241;43m0\u001B[39;49m\u001B[43m,\u001B[49m\u001B[43m \u001B[49m\u001B[43mlineWidth\u001B[49m\u001B[38;5;241;43m=\u001B[39;49m\u001B[38;5;241;43m2\u001B[39;49m\u001B[43m)\u001B[49m\n\u001B[0;32m     79\u001B[0m     color \u001B[38;5;241m=\u001B[39m \u001B[38;5;28mlen\u001B[39m(traj) \u001B[38;5;241m/\u001B[39m \u001B[38;5;28mlen\u001B[39m(trajectory)  \u001B[38;5;66;03m# 1/max_ep_steps\u001B[39;00m\n\u001B[0;32m     80\u001B[0m     xyz1 \u001B[38;5;241m=\u001B[39m xyz2\n",
      "\u001B[1;31merror\u001B[0m: Not connected to physics server."
     ]
    }
   ],
   "source": [
    "\n",
    "_, _ = evaluate.perform_benchmark(ensemble, env, human=True, num_episodes=num_episodes, deterministic=True,\n",
    "                                     strategy='variance_only',\n",
    "                                     scenario_name=evaluation_scenario,\n",
    "                                     prior_orientation=prior_orientation,\n",
    "                                  pre_calc_metrics=metrics)"
   ],
   "metadata": {
    "collapsed": false,
    "ExecuteTime": {
     "end_time": "2024-04-12T06:08:14.484651Z",
     "start_time": "2024-04-12T06:04:31.786872Z"
    }
   },
   "execution_count": 10
  },
  {
   "cell_type": "markdown",
   "source": [
    "# get rendered env\n",
    "env = gymnasium.make(configuration[\"env_name\"],\n",
    "                     render=True, control_type=\"js\",\n",
    "                     obs_type=configuration[\"obs_type\"], goal_distance_threshold=0.05,\n",
    "                     goal_condition=\"halt\",\n",
    "                     reward_type=reward_type, limiter=configuration[\"limiter\"],\n",
    "                     show_goal_space=False, scenario=evaluation_scenario,\n",
    "                     randomize_robot_pose=False,  # if evaluation_scenario != \"wang_3\" else True,\n",
    "                     task_observations=\"vectors+all\",\n",
    "                     truncate_on_collision=True,\n",
    "                     terminate_on_success=True,\n",
    "                     show_debug_labels=True, n_substeps=n_substeps)"
   ],
   "metadata": {
    "collapsed": false
   }
  },
  {
   "cell_type": "code",
   "execution_count": 8,
   "outputs": [],
   "source": [
    "\n",
    "# pybullet.changeVisualShape(objectUniqueId=0, linkIndex=1, rgbaColor=[1,1,1,0.5], physicsClientId=1)\n",
    "# pybullet.changeVisualShape(objectUniqueId=0, linkIndex=3, rgbaColor=[1,1,1,1], physicsClientId=1)\n",
    "# pybullet.changeVisualShape(objectUniqueId=0, linkIndex=2, rgbaColor=[1,1,1,0.5])\n",
    "# pybullet.changeVisualShape(objectUniqueId=0, linkIndex=1, rgbaColor=[1,1,1,0.5])\n",
    "# pybullet.changeVisualShape(objectUniqueId=0, linkIndex=0, rgbaColor=[1,1,1,0.5])"
   ],
   "metadata": {
    "collapsed": false,
    "ExecuteTime": {
     "end_time": "2024-04-12T06:03:33.807940Z",
     "start_time": "2024-04-12T06:03:33.805648Z"
    }
   }
  },
  {
   "cell_type": "markdown",
   "source": [
    "# todo: draw a circle\n",
    "time.sleep(3)\n",
    "radius = 0.9\n",
    "theta = 0.49*np.pi\n",
    "phi = 2*np.pi\n",
    "\n",
    "\n",
    "def get_next_point(radius, phi, theta):\n",
    "    return [radius * np.sin(theta) * np.cos(phi), radius * np.sin(theta) * np.sin(phi), radius * np.cos(theta)]\n",
    "\n",
    "inc = -phi/4\n",
    "xyz1 = get_next_point(radius,inc,theta)\n",
    "th= 0.0\n",
    "while th < theta:\n",
    "    while inc < phi/4:\n",
    "        inc += 0.01\n",
    "        xyz2 = get_next_point(radius, inc, theta)\n",
    "        pybullet.addUserDebugLine(lineFromXYZ=xyz1, lineToXYZ=xyz2, lineColorRGB=np.array([0,1,0]), physicsClientId=1, lifeTime=0, lineWidth=2)\n",
    "        time.sleep(0.01)\n",
    "        xyz1 = xyz2\n",
    "    th += 0.01\n",
    "\n",
    "# inc = -0.5*np.pi\n",
    "# xyz1=get_next_point(phi, theta*inc)\n",
    "# while inc < 0.5*np.pi:\n",
    "#     inc += 0.01\n",
    "#     xyz2 = get_next_point(phi, theta*inc)\n",
    "#     pybullet.addUserDebugLine(lineFromXYZ=xyz1, lineToXYZ=xyz2, lineColorRGB=np.array([0,1,0]), physicsClientId=1, lifeTime=0, lineWidth=2)\n",
    "#     time.sleep(0.01)\n",
    "#     xyz1 = xyz2\n",
    "\n",
    "inc = -0.5*np.pi\n",
    "xyz1=get_next_point(radius, phi/2, theta*inc)\n",
    "while inc < 0.5*np.pi:\n",
    "    inc += 0.01\n",
    "    xyz2 = get_next_point(radius, phi/4, theta*inc)\n",
    "    pybullet.addUserDebugLine(lineFromXYZ=xyz1, lineToXYZ=xyz2, lineColorRGB=np.array([0,1,0]), physicsClientId=1, lifeTime=0, lineWidth=2)\n",
    "    time.sleep(0.01)\n",
    "    xyz1 = xyz2\n",
    "\n",
    "rad = -0.9\n",
    "xyz1=[0.0, rad, 0.01]\n",
    "while rad < radius:\n",
    "    rad += 0.01\n",
    "    xyz2 = [0.0, rad, 0.01]\n",
    "    pybullet.addUserDebugLine(lineFromXYZ=xyz1, lineToXYZ=xyz2, lineColorRGB=np.array([0,1,0]), physicsClientId=1, lifeTime=0, lineWidth=2)\n",
    "    time.sleep(0.01)\n",
    "    xyz1 = xyz2\n"
   ],
   "metadata": {
    "collapsed": false
   }
  },
  {
   "cell_type": "markdown",
   "source": [
    "time.sleep(3)\n",
    "env.task.create_goal_outline()\n",
    "while True:\n",
    "    time.sleep(1)\n",
    "    env.reset()"
   ],
   "metadata": {
    "collapsed": false
   }
  },
  {
   "cell_type": "code",
   "execution_count": 9,
   "outputs": [],
   "source": [
    "#env.close()"
   ],
   "metadata": {
    "collapsed": false,
    "ExecuteTime": {
     "end_time": "2024-04-12T06:03:33.811909Z",
     "start_time": "2024-04-12T06:03:33.808945Z"
    }
   }
  },
  {
   "cell_type": "code",
   "execution_count": 9,
   "outputs": [],
   "source": [],
   "metadata": {
    "collapsed": false,
    "ExecuteTime": {
     "end_time": "2024-04-12T06:03:33.815583Z",
     "start_time": "2024-04-12T06:03:33.812921Z"
    }
   }
  }
 ],
 "metadata": {
  "kernelspec": {
   "display_name": "Python 3",
   "language": "python",
   "name": "python3"
  },
  "language_info": {
   "codemirror_mode": {
    "name": "ipython",
    "version": 2
   },
   "file_extension": ".py",
   "mimetype": "text/x-python",
   "name": "python",
   "nbconvert_exporter": "python",
   "pygments_lexer": "ipython2",
   "version": "2.7.6"
  }
 },
 "nbformat": 4,
 "nbformat_minor": 0
}
